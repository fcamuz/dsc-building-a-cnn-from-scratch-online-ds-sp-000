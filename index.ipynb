{
 "cells": [
  {
   "cell_type": "markdown",
   "metadata": {},
   "source": [
    "# Building a CNN from Scratch - Lab\n",
    "\n",
    "## Introduction\n",
    "\n",
    "Now that you have background knowledge regarding how CNNs work and how to implement them via Keras, its time to practice those skills a little more independently in order to build a CNN on your own to solve a image recognition problem. In this lab, you'll practice building an image classifier from start to finish using a CNN.  \n",
    "\n",
    "## Objectives\n",
    "\n",
    "You will be able to:\n",
    "* Transform images into tensors\n",
    "* Build a CNN model for image recognition"
   ]
  },
  {
   "cell_type": "markdown",
   "metadata": {},
   "source": [
    "## Loading the Images\n",
    "\n",
    "The data for this lab concerns classifying lung xray images for pneumonia. The original dataset is from kaggle. We have downsampled this dataset in order to reduce training time for you when you design and fit your model to the data. ⏰ It is anticipated that this process will take approximately 1 hour to run on a standard machine, although times will vary depending on your particular computer and set up. At the end of this lab, you are welcome to try training on the complete dataset and observe the impact on the model's overall accuracy. \n",
    "\n",
    "You can find the initial downsampled dataset in a subdirectory, **chest_xray**, of this repository."
   ]
  },
  {
   "cell_type": "code",
   "execution_count": 23,
   "metadata": {},
   "outputs": [],
   "source": [
    "#Your code here; load the images; be sure to also preprocess these into tensors.\n",
    "import time\n",
    "import matplotlib.pyplot as plt\n",
    "import scipy\n",
    "import numpy as np\n",
    "from PIL import Image\n",
    "from scipy import ndimage\n",
    "from keras.preprocessing.image import ImageDataGenerator, array_to_img, img_to_array, load_img\n",
    "\n",
    "np.random.seed(123)\n",
    "\n"
   ]
  },
  {
   "cell_type": "code",
   "execution_count": 24,
   "metadata": {},
   "outputs": [
    {
     "name": "stdout",
     "output_type": "stream",
     "text": [
      "Found 208 images belonging to 2 classes.\n",
      "Found 4 images belonging to 2 classes.\n",
      "Found 1738 images belonging to 2 classes.\n"
     ]
    }
   ],
   "source": [
    "test_generator = ImageDataGenerator(rescale=1./255).flow_from_directory(\n",
    "       'chest_xray_downsampled/test', \n",
    "        target_size=(64, 64), batch_size = 20) \n",
    "\n",
    "# get all the data in the directory split/validation (200 images), and reshape them\n",
    "val_generator = ImageDataGenerator(rescale=1./255).flow_from_directory(\n",
    "        'chest_xray_downsampled/val', \n",
    "        target_size=(64, 64), batch_size = 20)\n",
    "\n",
    "# get all the data in the directory split/train (542 images), and reshape them\n",
    "train_generator = ImageDataGenerator(rescale=1./255).flow_from_directory(\n",
    "        'chest_xray_downsampled/train', \n",
    "        target_size=(64, 64), batch_size=20)\n",
    "\n"
   ]
  },
  {
   "cell_type": "code",
   "execution_count": 25,
   "metadata": {},
   "outputs": [],
   "source": [
    "# create the data sets\n",
    "train_images, train_labels = next(train_generator)\n",
    "test_images, test_labels = next(test_generator)\n",
    "val_images, val_labels = next(val_generator)\n",
    "\n"
   ]
  },
  {
   "cell_type": "code",
   "execution_count": 26,
   "metadata": {},
   "outputs": [
    {
     "name": "stdout",
     "output_type": "stream",
     "text": [
      "Number of training samples: 20\n",
      "Number of testing samples: 20\n",
      "Number of validation samples: 4\n",
      "train_images shape: (20, 64, 64, 3)\n",
      "train_labels shape: (20, 2)\n",
      "test_images shape: (20, 64, 64, 3)\n",
      "test_labels shape: (20, 2)\n",
      "val_images shape: (4, 64, 64, 3)\n",
      "val_labels shape: (4, 2)\n"
     ]
    }
   ],
   "source": [
    "# Explore your dataset again\n",
    "m_train = train_images.shape[0]\n",
    "num_px = train_images.shape[1]\n",
    "m_test = test_images.shape[0]\n",
    "m_val = val_images.shape[0]\n",
    "\n",
    "print (\"Number of training samples: \" + str(m_train))\n",
    "print (\"Number of testing samples: \" + str(m_test))\n",
    "print (\"Number of validation samples: \" + str(m_val))\n",
    "print (\"train_images shape: \" + str(train_images.shape))\n",
    "print (\"train_labels shape: \" + str(train_labels.shape))\n",
    "print (\"test_images shape: \" + str(test_images.shape))\n",
    "print (\"test_labels shape: \" + str(test_labels.shape))\n",
    "print (\"val_images shape: \" + str(val_images.shape))\n",
    "print (\"val_labels shape: \" + str(val_labels.shape))"
   ]
  },
  {
   "cell_type": "code",
   "execution_count": 9,
   "metadata": {},
   "outputs": [
    {
     "name": "stdout",
     "output_type": "stream",
     "text": [
      "(20, 12288)\n",
      "(20, 12288)\n",
      "(4, 12288)\n"
     ]
    }
   ],
   "source": [
    "\"\"\"train_img = train_images.reshape(train_images.shape[0], -1)\n",
    "test_img = test_images.reshape(test_images.shape[0], -1)\n",
    "val_img = val_images.reshape(val_images.shape[0], -1)\n",
    "\n",
    "print(train_img.shape)\n",
    "print(test_img.shape)\n",
    "print(val_img.shape)\"\"\""
   ]
  },
  {
   "cell_type": "code",
   "execution_count": 11,
   "metadata": {},
   "outputs": [],
   "source": [
    "\"\"\"train_y = np.reshape(train_labels[:,0], (20,1))\n",
    "test_y = np.reshape(test_labels[:,0], (20,1))\n",
    "val_y = np.reshape(val_labels[:,0], (4,1))\"\"\""
   ]
  },
  {
   "cell_type": "markdown",
   "metadata": {},
   "source": [
    "## Designing the Model\n",
    "\n",
    "Now it's time to design your CNN! Remember a few things when doing this: \n",
    "* You should alternate convolutional and pooling layers\n",
    "* You should have later layers have a larger number of parameters in order to detect more abstract patterns\n",
    "* Add some final dense layers to add a classifier to the convolutional base"
   ]
  },
  {
   "cell_type": "code",
   "execution_count": null,
   "metadata": {},
   "outputs": [],
   "source": []
  },
  {
   "cell_type": "code",
   "execution_count": 33,
   "metadata": {},
   "outputs": [],
   "source": [
    "model = models.Sequential()\n",
    "model.add(layers.Conv2D(32, (3, 3), activation='relu',\n",
    "                        input_shape=(64, 64, 3)))\n",
    "model.add(layers.MaxPooling2D((2, 2)))\n",
    "model.add(layers.Conv2D(64, (3, 3), activation='relu'))\n",
    "model.add(layers.MaxPooling2D((2, 2)))\n",
    "model.add(layers.Conv2D(128, (3, 3), activation='relu'))\n",
    "model.add(layers.MaxPooling2D((2, 2)))\n",
    "model.add(layers.Conv2D(128, (3, 3), activation='relu'))\n",
    "model.add(layers.MaxPooling2D((2, 2)))\n",
    "model.add(layers.Flatten())\n",
    "model.add(layers.Dense(512, activation='relu'))\n",
    "model.add(layers.Dense(2, activation='sigmoid'))\n",
    "\n",
    "from keras import optimizers\n",
    "\n",
    "model.compile(loss='binary_crossentropy',\n",
    "              optimizer=optimizers.RMSprop(lr=1e-4),\n",
    "              metrics=['acc'])"
   ]
  },
  {
   "cell_type": "code",
   "execution_count": null,
   "metadata": {},
   "outputs": [],
   "source": []
  },
  {
   "cell_type": "code",
   "execution_count": null,
   "metadata": {},
   "outputs": [],
   "source": []
  },
  {
   "cell_type": "markdown",
   "metadata": {},
   "source": [
    "## Training and Evaluating the Model\n",
    "\n",
    "Remember that training deep networks is resource intensive: depending on the size of the data, even a CNN with 3-4 successive convolutional and pooling layers is apt to take a hours to train on a high end laptop. Using 30 epochs and 8 layers (alternating between convolutional and pooling), our model took about 40 minutes to run on a year old macbook pro.\n",
    "\n",
    "\n",
    "If you are concerned with runtime, you may want to set your model to run the training epochs overnight.  \n",
    "\n",
    "**If you are going to run this process overnight, be sure to also script code for the following questions concerning data augmentation. Check your code twice (or more) and then set the notebook to run all, or something equivalent to have them train overnight.**"
   ]
  },
  {
   "cell_type": "code",
   "execution_count": null,
   "metadata": {},
   "outputs": [],
   "source": [
    "#Set the model to train; see warnings above"
   ]
  },
  {
   "cell_type": "code",
   "execution_count": 34,
   "metadata": {},
   "outputs": [
    {
     "name": "stdout",
     "output_type": "stream",
     "text": [
      "Epoch 1/30\n",
      "100/100 [==============================] - 53s 534ms/step - loss: 0.5701 - acc: 0.7455 - val_loss: 0.8731 - val_acc: 0.5000\n",
      "Epoch 2/30\n",
      "100/100 [==============================] - 40s 397ms/step - loss: 0.4455 - acc: 0.7845 - val_loss: 0.6498 - val_acc: 0.7500\n",
      "Epoch 3/30\n",
      "100/100 [==============================] - 39s 393ms/step - loss: 0.3556 - acc: 0.8349 - val_loss: 0.9872 - val_acc: 0.7500\n",
      "Epoch 4/30\n",
      "100/100 [==============================] - 38s 382ms/step - loss: 0.3098 - acc: 0.8593 - val_loss: 1.0725 - val_acc: 0.7500\n",
      "Epoch 5/30\n",
      "100/100 [==============================] - 40s 398ms/step - loss: 0.2793 - acc: 0.8778 - val_loss: 1.1701 - val_acc: 0.7500\n",
      "Epoch 6/30\n",
      "100/100 [==============================] - 40s 401ms/step - loss: 0.2697 - acc: 0.8809 - val_loss: 0.8328 - val_acc: 0.7500\n",
      "Epoch 7/30\n",
      "100/100 [==============================] - 41s 405ms/step - loss: 0.2511 - acc: 0.8916 - val_loss: 1.1511 - val_acc: 0.7500\n",
      "Epoch 8/30\n",
      "100/100 [==============================] - 40s 400ms/step - loss: 0.2358 - acc: 0.8976 - val_loss: 1.4548 - val_acc: 0.7500\n",
      "Epoch 9/30\n",
      "100/100 [==============================] - 40s 401ms/step - loss: 0.2035 - acc: 0.9146 - val_loss: 1.2149 - val_acc: 0.7500\n",
      "Epoch 10/30\n",
      "100/100 [==============================] - 40s 402ms/step - loss: 0.1854 - acc: 0.9287 - val_loss: 1.2408 - val_acc: 0.7500\n",
      "Epoch 11/30\n",
      "100/100 [==============================] - 42s 423ms/step - loss: 0.1769 - acc: 0.9274 - val_loss: 2.1100 - val_acc: 0.5000\n",
      "Epoch 12/30\n",
      "100/100 [==============================] - 43s 434ms/step - loss: 0.1641 - acc: 0.9281 - val_loss: 1.4994 - val_acc: 0.5000\n",
      "Epoch 13/30\n",
      "100/100 [==============================] - 50s 496ms/step - loss: 0.1413 - acc: 0.9420 - val_loss: 1.2415 - val_acc: 0.5000\n",
      "Epoch 14/30\n",
      "100/100 [==============================] - 40s 400ms/step - loss: 0.1352 - acc: 0.9476 - val_loss: 2.2716 - val_acc: 0.5000\n",
      "Epoch 15/30\n",
      "100/100 [==============================] - 39s 392ms/step - loss: 0.1181 - acc: 0.9557 - val_loss: 2.1224 - val_acc: 0.5000\n",
      "Epoch 16/30\n",
      "100/100 [==============================] - 39s 390ms/step - loss: 0.1092 - acc: 0.9585 - val_loss: 1.0604 - val_acc: 0.5000\n",
      "Epoch 17/30\n",
      "100/100 [==============================] - 38s 382ms/step - loss: 0.0975 - acc: 0.9604 - val_loss: 1.5451 - val_acc: 0.5000\n",
      "Epoch 18/30\n",
      "100/100 [==============================] - 38s 380ms/step - loss: 0.0910 - acc: 0.9615 - val_loss: 1.2957 - val_acc: 0.5000\n",
      "Epoch 19/30\n",
      "100/100 [==============================] - 38s 381ms/step - loss: 0.0763 - acc: 0.9742 - val_loss: 1.5691 - val_acc: 0.5000\n",
      "Epoch 20/30\n",
      "100/100 [==============================] - 38s 384ms/step - loss: 0.0798 - acc: 0.9717 - val_loss: 1.6022 - val_acc: 0.5000\n",
      "Epoch 21/30\n",
      "100/100 [==============================] - 41s 405ms/step - loss: 0.0784 - acc: 0.9682 - val_loss: 1.2450 - val_acc: 0.5000\n",
      "Epoch 22/30\n",
      "100/100 [==============================] - 38s 380ms/step - loss: 0.0699 - acc: 0.9737 - val_loss: 1.2526 - val_acc: 0.5000\n",
      "Epoch 23/30\n",
      "100/100 [==============================] - 38s 378ms/step - loss: 0.0600 - acc: 0.9795 - val_loss: 1.5809 - val_acc: 0.5000\n",
      "Epoch 24/30\n",
      "100/100 [==============================] - 39s 386ms/step - loss: 0.0548 - acc: 0.9803 - val_loss: 0.4108 - val_acc: 0.7500\n",
      "Epoch 25/30\n",
      "100/100 [==============================] - 38s 380ms/step - loss: 0.0499 - acc: 0.9835 - val_loss: 1.2010 - val_acc: 0.5000\n",
      "Epoch 26/30\n",
      "100/100 [==============================] - 38s 384ms/step - loss: 0.0483 - acc: 0.9847 - val_loss: 1.8536 - val_acc: 0.5000\n",
      "Epoch 27/30\n",
      "100/100 [==============================] - 39s 387ms/step - loss: 0.0381 - acc: 0.9897 - val_loss: 2.5982 - val_acc: 0.5000\n",
      "Epoch 28/30\n",
      "100/100 [==============================] - 38s 377ms/step - loss: 0.0379 - acc: 0.9835 - val_loss: 0.8099 - val_acc: 0.5000\n",
      "Epoch 29/30\n",
      "100/100 [==============================] - 38s 385ms/step - loss: 0.0368 - acc: 0.9875 - val_loss: 1.3957 - val_acc: 0.5000\n",
      "Epoch 30/30\n",
      "100/100 [==============================] - 38s 381ms/step - loss: 0.0321 - acc: 0.9882 - val_loss: 1.6414 - val_acc: 0.5000\n"
     ]
    }
   ],
   "source": [
    "history = model.fit_generator(\n",
    "      train_generator,\n",
    "      steps_per_epoch=100,\n",
    "      epochs=30,\n",
    "      validation_data=val_generator,\n",
    "      validation_steps=50)"
   ]
  },
  {
   "cell_type": "code",
   "execution_count": null,
   "metadata": {},
   "outputs": [],
   "source": [
    "# Plot history"
   ]
  },
  {
   "cell_type": "code",
   "execution_count": 35,
   "metadata": {
    "scrolled": false
   },
   "outputs": [
    {
     "data": {
      "image/png": "[encoded data removed]",
      "text/plain": [
       "<Figure size 432x288 with 1 Axes>"
      ]
     },
     "metadata": {
      "needs_background": "light"
     },
     "output_type": "display_data"
    },
    {
     "data": {
      "image/png": "[encoded data removed]",
      "text/plain": [
       "<Figure size 432x288 with 1 Axes>"
      ]
     },
     "metadata": {
      "needs_background": "light"
     },
     "output_type": "display_data"
    }
   ],
   "source": [
    "import matplotlib.pyplot as plt\n",
    "%matplotlib inline \n",
    "\n",
    "acc = history.history['acc']\n",
    "val_acc = history.history['val_acc']\n",
    "loss = history.history['loss']\n",
    "val_loss = history.history['val_loss']\n",
    "epochs = range(len(acc))\n",
    "plt.plot(epochs, acc, 'bo', label='Training acc')\n",
    "plt.plot(epochs, val_acc, 'b', label='Validation acc')\n",
    "plt.title('Training and validation accuracy')\n",
    "plt.legend()\n",
    "plt.figure()\n",
    "plt.plot(epochs, loss, 'bo', label='Training loss')\n",
    "plt.plot(epochs, val_loss, 'b', label='Validation loss')\n",
    "plt.title('Training and validation loss')\n",
    "plt.legend()\n",
    "plt.show()\n",
    "\n"
   ]
  },
  {
   "cell_type": "markdown",
   "metadata": {},
   "source": [
    "## Save the Model"
   ]
  },
  {
   "cell_type": "code",
   "execution_count": 36,
   "metadata": {},
   "outputs": [],
   "source": [
    "#Your code here; save the model for future reference.\n",
    "model.save('chest_xray_downsampled_data.h5')"
   ]
  },
  {
   "cell_type": "markdown",
   "metadata": {},
   "source": [
    "## Data Augmentation\n",
    "\n",
    "Recall that data augmentation is typically always a necessary step when using a small dataset as this one which you have been provided. As such, if you haven't already, implement a data augmentation setup.\n",
    "\n",
    "**Warning: ⏰ This process took nearly 4 hours to run on a relatively new macbook pro. As such, it is recommended that you simply code the setup and compare to the solution branch, or set the process to run overnight if you do choose to actually run the code.**"
   ]
  },
  {
   "cell_type": "code",
   "execution_count": 48,
   "metadata": {},
   "outputs": [
    {
     "name": "stdout",
     "output_type": "stream",
     "text": [
      "Found 1738 images belonging to 2 classes.\n",
      "Found 4 images belonging to 2 classes.\n"
     ]
    }
   ],
   "source": [
    "#Add data augmentation to the model setup and set the model to train; \n",
    "#See warnings above if you intend to run this block of code\n",
    "import datetime\n",
    "\n",
    "\n",
    "#With Data Augmentation\n",
    "train_datagen = ImageDataGenerator(\n",
    "      rotation_range=40,\n",
    "      width_shift_range=0.2,\n",
    "      height_shift_range=0.2,\n",
    "      shear_range=0.2,\n",
    "      zoom_range=0.2,\n",
    "      horizontal_flip=True,\n",
    "      fill_mode='nearest')\n",
    "\n",
    "#Never apply data augmentation to test/validation sets \n",
    "test_datagen = ImageDataGenerator(rescale=1./255)\n",
    "\n",
    "train_generator = train_datagen.flow_from_directory(\n",
    "        # This is the target directory\n",
    "       'chest_xray_downsampled/train',\n",
    "        # All images will be resized to 150x150\n",
    "        target_size=(150, 150),\n",
    "        batch_size=32,\n",
    "        # Since we use binary_crossentropy loss, we need binary labels\n",
    "        class_mode='binary')\n",
    "\n",
    "validation_generator = test_datagen.flow_from_directory(\n",
    "        'chest_xray_downsampled/val',\n",
    "        target_size=(150, 150),\n",
    "        batch_size=32,\n",
    "        class_mode='binary')"
   ]
  },
  {
   "cell_type": "code",
   "execution_count": 49,
   "metadata": {
    "scrolled": false
   },
   "outputs": [
    {
     "name": "stdout",
     "output_type": "stream",
     "text": [
      "Epoch 1/100\n",
      "100/100 [==============================] - 168s 2s/step - loss: 3.2920 - acc: 0.6587 - val_loss: 0.6924 - val_acc: 0.5000\n",
      "Epoch 2/100\n",
      "100/100 [==============================] - 159s 2s/step - loss: 0.5512 - acc: 0.7595 - val_loss: 0.6929 - val_acc: 0.5000\n",
      "Epoch 3/100\n",
      "100/100 [==============================] - 158s 2s/step - loss: 0.4549 - acc: 0.8099 - val_loss: 0.6918 - val_acc: 0.5000\n",
      "Epoch 4/100\n",
      "100/100 [==============================] - 159s 2s/step - loss: 0.4311 - acc: 0.8102 - val_loss: 0.6916 - val_acc: 0.5000\n",
      "Epoch 5/100\n",
      "100/100 [==============================] - 159s 2s/step - loss: 0.3760 - acc: 0.8446 - val_loss: 0.6932 - val_acc: 0.5000\n",
      "Epoch 6/100\n",
      "100/100 [==============================] - 159s 2s/step - loss: 0.3602 - acc: 0.8501 - val_loss: 0.6915 - val_acc: 0.5000\n",
      "Epoch 7/100\n",
      "100/100 [==============================] - 160s 2s/step - loss: 0.3319 - acc: 0.8546 - val_loss: 0.6925 - val_acc: 0.5000\n",
      "Epoch 8/100\n",
      "100/100 [==============================] - 159s 2s/step - loss: 0.3114 - acc: 0.8669 - val_loss: 0.6918 - val_acc: 0.5000\n",
      "Epoch 9/100\n",
      "100/100 [==============================] - 159s 2s/step - loss: 0.2950 - acc: 0.8761 - val_loss: 0.6922 - val_acc: 0.5000\n",
      "Epoch 10/100\n",
      "100/100 [==============================] - 158s 2s/step - loss: 0.2882 - acc: 0.8812 - val_loss: 0.6930 - val_acc: 0.5000\n",
      "Epoch 11/100\n",
      "100/100 [==============================] - 158s 2s/step - loss: 0.2699 - acc: 0.8885 - val_loss: 0.6912 - val_acc: 0.5000\n",
      "Epoch 12/100\n",
      "100/100 [==============================] - 160s 2s/step - loss: 0.2771 - acc: 0.8859 - val_loss: 0.6945 - val_acc: 0.5000\n",
      "Epoch 13/100\n",
      "100/100 [==============================] - 160s 2s/step - loss: 0.2553 - acc: 0.8943 - val_loss: 0.6951 - val_acc: 0.5000\n",
      "Epoch 14/100\n",
      "100/100 [==============================] - 158s 2s/step - loss: 0.2604 - acc: 0.8913 - val_loss: 0.6945 - val_acc: 0.5000\n",
      "Epoch 15/100\n",
      "100/100 [==============================] - 157s 2s/step - loss: 0.2699 - acc: 0.8915 - val_loss: 0.6922 - val_acc: 0.5000\n",
      "Epoch 16/100\n",
      "100/100 [==============================] - 159s 2s/step - loss: 0.2444 - acc: 0.9053 - val_loss: 0.6930 - val_acc: 0.5000\n",
      "Epoch 17/100\n",
      "100/100 [==============================] - 159s 2s/step - loss: 0.2451 - acc: 0.8980 - val_loss: 0.6934 - val_acc: 0.5000\n",
      "Epoch 18/100\n",
      "100/100 [==============================] - 160s 2s/step - loss: 0.2334 - acc: 0.9005 - val_loss: 0.6938 - val_acc: 0.5000\n",
      "Epoch 19/100\n",
      "100/100 [==============================] - 158s 2s/step - loss: 0.2461 - acc: 0.9040 - val_loss: 0.6960 - val_acc: 0.5000\n",
      "Epoch 20/100\n",
      "100/100 [==============================] - 158s 2s/step - loss: 0.2216 - acc: 0.9065 - val_loss: 0.6981 - val_acc: 0.5000\n",
      "Epoch 21/100\n",
      "100/100 [==============================] - 163s 2s/step - loss: 0.2284 - acc: 0.9091 - val_loss: 0.6948 - val_acc: 0.5000\n",
      "Epoch 22/100\n",
      "100/100 [==============================] - 158s 2s/step - loss: 0.2288 - acc: 0.9113 - val_loss: 0.6984 - val_acc: 0.5000\n",
      "Epoch 23/100\n",
      "100/100 [==============================] - 160s 2s/step - loss: 0.2330 - acc: 0.9091 - val_loss: 0.7000 - val_acc: 0.5000\n",
      "Epoch 24/100\n",
      "100/100 [==============================] - 159s 2s/step - loss: 0.2073 - acc: 0.9193 - val_loss: 0.6995 - val_acc: 0.5000\n",
      "Epoch 25/100\n",
      "100/100 [==============================] - 159s 2s/step - loss: 0.2177 - acc: 0.9132 - val_loss: 0.7010 - val_acc: 0.5000\n",
      "Epoch 26/100\n",
      "100/100 [==============================] - 158s 2s/step - loss: 0.2272 - acc: 0.9125 - val_loss: 0.7027 - val_acc: 0.5000\n",
      "Epoch 27/100\n",
      "100/100 [==============================] - 158s 2s/step - loss: 0.1995 - acc: 0.9167 - val_loss: 0.7089 - val_acc: 0.5000\n",
      "Epoch 28/100\n",
      "100/100 [==============================] - 159s 2s/step - loss: 0.2165 - acc: 0.9163 - val_loss: 0.7056 - val_acc: 0.5000\n",
      "Epoch 29/100\n",
      "100/100 [==============================] - 159s 2s/step - loss: 0.2080 - acc: 0.9179 - val_loss: 0.7047 - val_acc: 0.5000\n",
      "Epoch 30/100\n",
      "100/100 [==============================] - 160s 2s/step - loss: 0.2054 - acc: 0.9198 - val_loss: 0.7031 - val_acc: 0.5000\n",
      "Epoch 31/100\n",
      "100/100 [==============================] - 158s 2s/step - loss: 0.2116 - acc: 0.9167 - val_loss: 0.7140 - val_acc: 0.5000\n",
      "Epoch 32/100\n",
      "100/100 [==============================] - 158s 2s/step - loss: 0.2188 - acc: 0.9148 - val_loss: 0.7144 - val_acc: 0.5000\n",
      "Epoch 33/100\n",
      "100/100 [==============================] - 158s 2s/step - loss: 0.1906 - acc: 0.9255 - val_loss: 0.7118 - val_acc: 0.5000\n",
      "Epoch 34/100\n",
      "100/100 [==============================] - 160s 2s/step - loss: 0.2059 - acc: 0.9191 - val_loss: 0.7118 - val_acc: 0.5000\n",
      "Epoch 35/100\n",
      "100/100 [==============================] - 158s 2s/step - loss: 0.2123 - acc: 0.9214 - val_loss: 0.7108 - val_acc: 0.5000\n",
      "Epoch 36/100\n",
      "100/100 [==============================] - 158s 2s/step - loss: 0.2093 - acc: 0.9205 - val_loss: 0.7053 - val_acc: 0.5000\n",
      "Epoch 37/100\n",
      "100/100 [==============================] - 162s 2s/step - loss: 0.2139 - acc: 0.9144 - val_loss: 0.7150 - val_acc: 0.5000\n",
      "Epoch 38/100\n",
      "100/100 [==============================] - 159s 2s/step - loss: 0.2095 - acc: 0.9233 - val_loss: 0.7211 - val_acc: 0.5000\n",
      "Epoch 39/100\n",
      "100/100 [==============================] - 159s 2s/step - loss: 0.2145 - acc: 0.9160 - val_loss: 0.7204 - val_acc: 0.5000\n",
      "Epoch 40/100\n",
      "100/100 [==============================] - 160s 2s/step - loss: 0.2054 - acc: 0.9243 - val_loss: 0.7138 - val_acc: 0.5000\n",
      "Epoch 41/100\n",
      "100/100 [==============================] - 160s 2s/step - loss: 0.2082 - acc: 0.9188 - val_loss: 0.7268 - val_acc: 0.5000\n",
      "Epoch 42/100\n",
      "100/100 [==============================] - 159s 2s/step - loss: 0.2080 - acc: 0.9157 - val_loss: 0.7324 - val_acc: 0.5000\n",
      "Epoch 43/100\n",
      "100/100 [==============================] - 157s 2s/step - loss: 0.2089 - acc: 0.9250 - val_loss: 0.7115 - val_acc: 0.5000\n",
      "Epoch 44/100\n",
      "100/100 [==============================] - 159s 2s/step - loss: 0.1980 - acc: 0.9242 - val_loss: 0.7217 - val_acc: 0.5000\n",
      "Epoch 45/100\n",
      "100/100 [==============================] - 161s 2s/step - loss: 0.1931 - acc: 0.9249 - val_loss: 0.7265 - val_acc: 0.5000\n",
      "Epoch 46/100\n",
      "100/100 [==============================] - 160s 2s/step - loss: 0.1928 - acc: 0.9226 - val_loss: 0.7409 - val_acc: 0.5000\n",
      "Epoch 47/100\n",
      "100/100 [==============================] - 159s 2s/step - loss: 0.2161 - acc: 0.9208 - val_loss: 0.7245 - val_acc: 0.5000\n",
      "Epoch 48/100\n",
      "100/100 [==============================] - 157s 2s/step - loss: 0.2059 - acc: 0.9212 - val_loss: 0.7147 - val_acc: 0.5000\n",
      "Epoch 49/100\n",
      "100/100 [==============================] - 160s 2s/step - loss: 0.1878 - acc: 0.9311 - val_loss: 0.7288 - val_acc: 0.5000\n",
      "Epoch 50/100\n",
      "100/100 [==============================] - 159s 2s/step - loss: 0.1844 - acc: 0.9316 - val_loss: 0.7615 - val_acc: 0.5000\n",
      "Epoch 51/100\n",
      "100/100 [==============================] - 160s 2s/step - loss: 0.1963 - acc: 0.9230 - val_loss: 0.7539 - val_acc: 0.5000\n",
      "Epoch 52/100\n",
      "100/100 [==============================] - 158s 2s/step - loss: 0.1992 - acc: 0.9278 - val_loss: 0.7631 - val_acc: 0.5000\n",
      "Epoch 53/100\n",
      "100/100 [==============================] - 160s 2s/step - loss: 0.1997 - acc: 0.9188 - val_loss: 0.8170 - val_acc: 0.5000\n",
      "Epoch 54/100\n",
      "100/100 [==============================] - 159s 2s/step - loss: 0.2146 - acc: 0.9233 - val_loss: 0.7863 - val_acc: 0.5000\n",
      "Epoch 55/100\n",
      "100/100 [==============================] - 159s 2s/step - loss: 0.1938 - acc: 0.9297 - val_loss: 0.7582 - val_acc: 0.5000\n",
      "Epoch 56/100\n",
      "100/100 [==============================] - 160s 2s/step - loss: 0.1900 - acc: 0.9259 - val_loss: 0.7772 - val_acc: 0.5000\n",
      "Epoch 57/100\n",
      "100/100 [==============================] - 159s 2s/step - loss: 0.1981 - acc: 0.9267 - val_loss: 0.7900 - val_acc: 0.5000\n",
      "Epoch 58/100\n",
      "100/100 [==============================] - 158s 2s/step - loss: 0.1966 - acc: 0.9312 - val_loss: 0.8820 - val_acc: 0.5000\n",
      "Epoch 59/100\n",
      "100/100 [==============================] - 157s 2s/step - loss: 0.1985 - acc: 0.9253 - val_loss: 0.7981 - val_acc: 0.5000\n",
      "Epoch 60/100\n",
      "100/100 [==============================] - 159s 2s/step - loss: 0.2068 - acc: 0.9276 - val_loss: 0.7505 - val_acc: 0.5000\n",
      "Epoch 61/100\n",
      "100/100 [==============================] - 159s 2s/step - loss: 0.1913 - acc: 0.9297 - val_loss: 0.8923 - val_acc: 0.5000\n"
     ]
    },
    {
     "name": "stdout",
     "output_type": "stream",
     "text": [
      "Epoch 62/100\n",
      "100/100 [==============================] - 160s 2s/step - loss: 0.1916 - acc: 0.9227 - val_loss: 0.8743 - val_acc: 0.5000\n",
      "Epoch 63/100\n",
      "100/100 [==============================] - 160s 2s/step - loss: 0.2066 - acc: 0.9295 - val_loss: 0.7942 - val_acc: 0.5000\n",
      "Epoch 64/100\n",
      "100/100 [==============================] - 159s 2s/step - loss: 0.1989 - acc: 0.9290 - val_loss: 0.8918 - val_acc: 0.5000\n",
      "Epoch 65/100\n",
      "100/100 [==============================] - 159s 2s/step - loss: 0.1899 - acc: 0.9293 - val_loss: 0.8452 - val_acc: 0.5000\n",
      "Epoch 66/100\n",
      "100/100 [==============================] - 158s 2s/step - loss: 0.1632 - acc: 0.9363 - val_loss: 0.9862 - val_acc: 0.5000\n",
      "Epoch 67/100\n",
      "100/100 [==============================] - 160s 2s/step - loss: 0.1972 - acc: 0.9393 - val_loss: 1.0322 - val_acc: 0.5000\n",
      "Epoch 68/100\n",
      "100/100 [==============================] - 157s 2s/step - loss: 0.2239 - acc: 0.9292 - val_loss: 0.9629 - val_acc: 0.5000\n",
      "Epoch 69/100\n",
      "100/100 [==============================] - 159s 2s/step - loss: 0.1976 - acc: 0.9317 - val_loss: 0.8458 - val_acc: 0.5000\n",
      "Epoch 70/100\n",
      "100/100 [==============================] - 159s 2s/step - loss: 0.1891 - acc: 0.9262 - val_loss: 0.8679 - val_acc: 0.5000\n",
      "Epoch 71/100\n",
      "100/100 [==============================] - 158s 2s/step - loss: 0.1795 - acc: 0.9312 - val_loss: 0.8566 - val_acc: 0.5000\n",
      "Epoch 72/100\n",
      "100/100 [==============================] - 159s 2s/step - loss: 0.1819 - acc: 0.9284 - val_loss: 0.8906 - val_acc: 0.5000\n",
      "Epoch 73/100\n",
      "100/100 [==============================] - 160s 2s/step - loss: 0.1911 - acc: 0.9255 - val_loss: 0.8975 - val_acc: 0.5000\n",
      "Epoch 74/100\n",
      "100/100 [==============================] - 160s 2s/step - loss: 0.1909 - acc: 0.9279 - val_loss: 0.8551 - val_acc: 0.5000\n",
      "Epoch 75/100\n",
      "100/100 [==============================] - 164s 2s/step - loss: 0.1898 - acc: 0.9255 - val_loss: 0.8607 - val_acc: 0.5000\n",
      "Epoch 76/100\n",
      "100/100 [==============================] - 159s 2s/step - loss: 0.2119 - acc: 0.9252 - val_loss: 0.8143 - val_acc: 0.5000\n",
      "Epoch 77/100\n",
      "100/100 [==============================] - 159s 2s/step - loss: 0.1596 - acc: 0.9426 - val_loss: 0.8418 - val_acc: 0.5000\n",
      "Epoch 78/100\n",
      "100/100 [==============================] - 159s 2s/step - loss: 0.1875 - acc: 0.9312 - val_loss: 1.0281 - val_acc: 0.5000\n",
      "Epoch 79/100\n",
      "100/100 [==============================] - 159s 2s/step - loss: 0.1903 - acc: 0.9259 - val_loss: 0.8809 - val_acc: 0.5000\n",
      "Epoch 80/100\n",
      "100/100 [==============================] - 159s 2s/step - loss: 0.1702 - acc: 0.9342 - val_loss: 1.0474 - val_acc: 0.5000\n",
      "Epoch 81/100\n",
      "100/100 [==============================] - 157s 2s/step - loss: 0.1836 - acc: 0.9304 - val_loss: 0.9383 - val_acc: 0.5000\n",
      "Epoch 82/100\n",
      "100/100 [==============================] - 158s 2s/step - loss: 0.1746 - acc: 0.9316 - val_loss: 0.9850 - val_acc: 0.5000\n",
      "Epoch 83/100\n",
      "100/100 [==============================] - 161s 2s/step - loss: 0.1674 - acc: 0.9359 - val_loss: 0.9528 - val_acc: 0.5000\n",
      "Epoch 84/100\n",
      "100/100 [==============================] - 159s 2s/step - loss: 0.2026 - acc: 0.9276 - val_loss: 0.8993 - val_acc: 0.5000\n",
      "Epoch 85/100\n",
      "100/100 [==============================] - 159s 2s/step - loss: 0.1632 - acc: 0.9344 - val_loss: 1.2880 - val_acc: 0.5000\n",
      "Epoch 86/100\n",
      "100/100 [==============================] - 159s 2s/step - loss: 0.1822 - acc: 0.9290 - val_loss: 1.0977 - val_acc: 0.5000\n",
      "Epoch 87/100\n",
      "100/100 [==============================] - 160s 2s/step - loss: 0.1921 - acc: 0.9273 - val_loss: 1.1624 - val_acc: 0.5000\n",
      "Epoch 88/100\n",
      "100/100 [==============================] - 159s 2s/step - loss: 0.1676 - acc: 0.9363 - val_loss: 1.1114 - val_acc: 0.5000\n",
      "Epoch 89/100\n",
      "100/100 [==============================] - 160s 2s/step - loss: 0.1775 - acc: 0.9350 - val_loss: 0.8682 - val_acc: 0.5000\n",
      "Epoch 90/100\n",
      "100/100 [==============================] - 159s 2s/step - loss: 0.1834 - acc: 0.9268 - val_loss: 0.8939 - val_acc: 0.5000\n",
      "Epoch 91/100\n",
      "100/100 [==============================] - 160s 2s/step - loss: 0.1814 - acc: 0.9314 - val_loss: 0.9254 - val_acc: 0.5000\n",
      "Epoch 92/100\n",
      "100/100 [==============================] - 159s 2s/step - loss: 0.1742 - acc: 0.9392 - val_loss: 1.0999 - val_acc: 0.5000\n",
      "Epoch 93/100\n",
      "100/100 [==============================] - 159s 2s/step - loss: 0.1706 - acc: 0.9379 - val_loss: 0.8851 - val_acc: 0.5000\n",
      "Epoch 94/100\n",
      "100/100 [==============================] - 159s 2s/step - loss: 0.1763 - acc: 0.9335 - val_loss: 0.9167 - val_acc: 0.5000\n",
      "Epoch 95/100\n",
      "100/100 [==============================] - 160s 2s/step - loss: 0.1806 - acc: 0.9303 - val_loss: 0.9037 - val_acc: 0.5000\n",
      "Epoch 96/100\n",
      "100/100 [==============================] - 159s 2s/step - loss: 0.1803 - acc: 0.9325 - val_loss: 0.8646 - val_acc: 0.5000\n",
      "Epoch 97/100\n",
      "100/100 [==============================] - 164s 2s/step - loss: 0.1682 - acc: 0.9361 - val_loss: 1.0089 - val_acc: 0.5000\n",
      "Epoch 98/100\n",
      "100/100 [==============================] - 159s 2s/step - loss: 0.1746 - acc: 0.9328 - val_loss: 0.8600 - val_acc: 0.5000\n",
      "Epoch 99/100\n",
      "100/100 [==============================] - 159s 2s/step - loss: 0.1698 - acc: 0.9401 - val_loss: 0.8824 - val_acc: 0.5000\n",
      "Epoch 100/100\n",
      "100/100 [==============================] - 160s 2s/step - loss: 0.1916 - acc: 0.9325 - val_loss: 0.8750 - val_acc: 0.5000\n"
     ]
    },
    {
     "data": {
      "image/png": "[encoded data removed]",
      "text/plain": [
       "<Figure size 432x288 with 1 Axes>"
      ]
     },
     "metadata": {
      "needs_background": "light"
     },
     "output_type": "display_data"
    },
    {
     "data": {
      "image/png": "[encoded data removed]",
      "text/plain": [
       "<Figure size 432x288 with 1 Axes>"
      ]
     },
     "metadata": {
      "needs_background": "light"
     },
     "output_type": "display_data"
    },
    {
     "name": "stdout",
     "output_type": "stream",
     "text": [
      "Full data model training and evaluation took a total of:\n",
      " 4:25:24.346132\n"
     ]
    }
   ],
   "source": [
    "\n",
    "start = datetime.datetime.now()\n",
    "#Design Model Architecture\n",
    "model = models.Sequential()\n",
    "model.add(layers.Conv2D(32, (3, 3), activation='relu',\n",
    "                        input_shape=(150, 150, 3)))\n",
    "model.add(layers.MaxPooling2D((2, 2)))\n",
    "model.add(layers.Conv2D(64, (3, 3), activation='relu'))\n",
    "model.add(layers.MaxPooling2D((2, 2)))\n",
    "model.add(layers.Conv2D(128, (3, 3), activation='relu'))\n",
    "model.add(layers.MaxPooling2D((2, 2)))\n",
    "model.add(layers.Conv2D(128, (3, 3), activation='relu'))\n",
    "model.add(layers.MaxPooling2D((2, 2)))\n",
    "model.add(layers.Flatten())\n",
    "model.add(layers.Dense(512, activation='relu'))\n",
    "model.add(layers.Dense(1, activation='sigmoid'))\n",
    "\n",
    "\n",
    "model.compile(loss='binary_crossentropy',\n",
    "              optimizer=optimizers.RMSprop(lr=1e-4),\n",
    "              metrics=['acc'])\n",
    "\n",
    "history = model.fit_generator(\n",
    "      train_generator,\n",
    "      steps_per_epoch=100,\n",
    "      epochs=100,\n",
    "      validation_data=validation_generator,\n",
    "      validation_steps=50)\n",
    "\n",
    "\n",
    "#Viz\n",
    "\n",
    "acc = history.history['acc']\n",
    "val_acc = history.history['val_acc']\n",
    "loss = history.history['loss']\n",
    "val_loss = history.history['val_loss']\n",
    "epochs = range(len(acc))\n",
    "\n",
    "plt.plot(epochs, acc, 'bo', label='Training acc')\n",
    "plt.plot(epochs, val_acc, 'b', label='Validation acc')\n",
    "plt.title('Training and validation accuracy')\n",
    "plt.legend()\n",
    "plt.figure()\n",
    "\n",
    "plt.plot(epochs, loss, 'bo', label='Training loss')\n",
    "plt.plot(epochs, val_loss, 'b', label='Validation loss')\n",
    "plt.title('Training and validation loss')\n",
    "plt.legend()\n",
    "plt.show()\n",
    "\n",
    "model.save('chest_xray_all_with_augmentation_data.h5')\n",
    "\n",
    "end = datetime.datetime.now()\n",
    "elapsed = end - start\n",
    "print('Full data model training and evaluation took a total of:\\n {}'.format(elapsed))"
   ]
  },
  {
   "cell_type": "code",
   "execution_count": null,
   "metadata": {},
   "outputs": [],
   "source": []
  },
  {
   "cell_type": "markdown",
   "metadata": {},
   "source": [
    "## Final Evaluation\n",
    "\n",
    "Now use the test set to perform a final evaluation on your model of choice."
   ]
  },
  {
   "cell_type": "code",
   "execution_count": 50,
   "metadata": {},
   "outputs": [
    {
     "name": "stdout",
     "output_type": "stream",
     "text": [
      "Found 208 images belonging to 2 classes.\n",
      "test acc: 0.6302521228790283\n"
     ]
    }
   ],
   "source": [
    "# Your code here; perform a final evaluation using the test set..\n",
    "\n",
    "\n",
    "test_generator = test_datagen.flow_from_directory(\n",
    "         'chest_xray_downsampled/test',\n",
    "        target_size=(150, 150),\n",
    "        batch_size=20,\n",
    "        class_mode='binary')\n",
    "test_loss, test_acc = model.evaluate_generator(test_generator, steps=50)\n",
    "print('test acc:', test_acc)"
   ]
  },
  {
   "cell_type": "markdown",
   "metadata": {},
   "source": [
    "## Extension: Adding Data to the Model\n",
    "\n",
    "As discussed, the current dataset we worked with is a subset of a dataset hosted on Kaggle. Increasing the data that we use to train the model will result in additional performance gains but will also result in longer training times and be more resource intensive.   \n",
    "\n",
    "⏰ It is estimated that training on the full dataset will take approximately 4 hours (and potentially significantly longer) depending on your computer's specifications.\n",
    "\n",
    "In order to test the impact of training on the full dataset, start by downloading the data from kaggle here: https://www.kaggle.com/paultimothymooney/chest-xray-pneumonia.   "
   ]
  },
  {
   "cell_type": "code",
   "execution_count": 51,
   "metadata": {},
   "outputs": [],
   "source": [
    "#Optional extension; Your code here"
   ]
  },
  {
   "cell_type": "markdown",
   "metadata": {},
   "source": [
    "## Summary\n",
    "\n",
    "Well done! In this lab, you practice building your own CNN for image recognition which drastically outperformed our previous attempts using a standard deep learning model alone. In the upcoming sections, we'll continue to investigate further techniques associated with CNNs including visualizing the representations they learn and techniques to further bolster their performance when we have limited training data such as here."
   ]
  }
 ],
 "metadata": {
  "kernelspec": {
   "display_name": "Python 3",
   "language": "python",
   "name": "python3"
  },
  "language_info": {
   "codemirror_mode": {
    "name": "ipython",
    "version": 3
   },
   "file_extension": ".py",
   "mimetype": "text/x-python",
   "name": "python",
   "nbconvert_exporter": "python",
   "pygments_lexer": "ipython3",
   "version": "3.7.3"
  },
  "toc": {
   "base_numbering": 1,
   "nav_menu": {},
   "number_sections": true,
   "sideBar": true,
   "skip_h1_title": false,
   "title_cell": "Table of Contents",
   "title_sidebar": "Contents",
   "toc_cell": false,
   "toc_position": {},
   "toc_section_display": true,
   "toc_window_display": false
  }
 },
 "nbformat": 4,
 "nbformat_minor": 2
}
